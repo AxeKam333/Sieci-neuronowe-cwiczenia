{
 "cells": [
  {
   "cell_type": "markdown",
   "id": "d1b75680",
   "metadata": {},
   "source": [
    "# Drzewa decyzyjne"
   ]
  },
  {
   "cell_type": "code",
   "execution_count": null,
   "id": "dba13e9e",
   "metadata": {
    "vscode": {
     "languageId": "plaintext"
    }
   },
   "outputs": [],
   "source": [
    "import csv\n",
    "\n",
    "with open('titanic-homework.csv', newline='') as csvfile:\n",
    "    spamreader = csv.reader(csvfile, delimiter=',', quotechar='|')\n",
    "    for row in spamreader:\n",
    "        print(row) # wywalic nagłówek\n"
   ]
  },
  {
   "cell_type": "markdown",
   "id": "b8e93af1",
   "metadata": {},
   "source": [
    "## Komentarz\n",
    "\n",
    "\n",
    "\n",
    "\n",
    "- Aleksander Kamiński 155840\n",
    "- Piotr Nowacki 15"
   ]
  }
 ],
 "metadata": {
  "language_info": {
   "name": "python"
  }
 },
 "nbformat": 4,
 "nbformat_minor": 5
}
